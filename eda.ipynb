{
 "cells": [
  {
   "cell_type": "code",
   "execution_count": null,
   "metadata": {},
   "outputs": [],
   "source": [
    "# depth_plots.ipynb\n",
    "import numpy as np \n",
    "import matplotlib.pyplot as plt \n",
    "import pandas as pd\n",
    "from os import listdir, walk, getcwd\n",
    "from os.path import isfile, join\n",
    "import json\n",
    "import sys"
   ]
  },
  {
   "cell_type": "code",
   "execution_count": 8,
   "metadata": {},
   "outputs": [
    {
     "data": {
      "text/html": [
       "<div>\n",
       "<style scoped>\n",
       "    .dataframe tbody tr th:only-of-type {\n",
       "        vertical-align: middle;\n",
       "    }\n",
       "\n",
       "    .dataframe tbody tr th {\n",
       "        vertical-align: top;\n",
       "    }\n",
       "\n",
       "    .dataframe thead th {\n",
       "        text-align: right;\n",
       "    }\n",
       "</style>\n",
       "<table border=\"1\" class=\"dataframe\">\n",
       "  <thead>\n",
       "    <tr style=\"text-align: right;\">\n",
       "      <th></th>\n",
       "      <th>Unnamed: 0</th>\n",
       "      <th>X_ray_image_name</th>\n",
       "      <th>Label</th>\n",
       "      <th>Dataset_type</th>\n",
       "      <th>Label_2_Virus_category</th>\n",
       "      <th>Label_1_Virus_category</th>\n",
       "    </tr>\n",
       "  </thead>\n",
       "  <tbody>\n",
       "    <tr>\n",
       "      <th>0</th>\n",
       "      <td>0</td>\n",
       "      <td>IM-0128-0001.jpeg</td>\n",
       "      <td>Normal</td>\n",
       "      <td>TRAIN</td>\n",
       "      <td>NaN</td>\n",
       "      <td>NaN</td>\n",
       "    </tr>\n",
       "    <tr>\n",
       "      <th>1</th>\n",
       "      <td>1</td>\n",
       "      <td>IM-0127-0001.jpeg</td>\n",
       "      <td>Normal</td>\n",
       "      <td>TRAIN</td>\n",
       "      <td>NaN</td>\n",
       "      <td>NaN</td>\n",
       "    </tr>\n",
       "    <tr>\n",
       "      <th>2</th>\n",
       "      <td>2</td>\n",
       "      <td>IM-0125-0001.jpeg</td>\n",
       "      <td>Normal</td>\n",
       "      <td>TRAIN</td>\n",
       "      <td>NaN</td>\n",
       "      <td>NaN</td>\n",
       "    </tr>\n",
       "    <tr>\n",
       "      <th>3</th>\n",
       "      <td>3</td>\n",
       "      <td>IM-0122-0001.jpeg</td>\n",
       "      <td>Normal</td>\n",
       "      <td>TRAIN</td>\n",
       "      <td>NaN</td>\n",
       "      <td>NaN</td>\n",
       "    </tr>\n",
       "    <tr>\n",
       "      <th>4</th>\n",
       "      <td>4</td>\n",
       "      <td>IM-0119-0001.jpeg</td>\n",
       "      <td>Normal</td>\n",
       "      <td>TRAIN</td>\n",
       "      <td>NaN</td>\n",
       "      <td>NaN</td>\n",
       "    </tr>\n",
       "    <tr>\n",
       "      <th>5</th>\n",
       "      <td>5</td>\n",
       "      <td>IM-0117-0001.jpeg</td>\n",
       "      <td>Normal</td>\n",
       "      <td>TRAIN</td>\n",
       "      <td>NaN</td>\n",
       "      <td>NaN</td>\n",
       "    </tr>\n",
       "    <tr>\n",
       "      <th>6</th>\n",
       "      <td>6</td>\n",
       "      <td>IM-0115-0001.jpeg</td>\n",
       "      <td>Normal</td>\n",
       "      <td>TRAIN</td>\n",
       "      <td>NaN</td>\n",
       "      <td>NaN</td>\n",
       "    </tr>\n",
       "    <tr>\n",
       "      <th>7</th>\n",
       "      <td>7</td>\n",
       "      <td>IM-0189-0001.jpeg</td>\n",
       "      <td>Normal</td>\n",
       "      <td>TRAIN</td>\n",
       "      <td>NaN</td>\n",
       "      <td>NaN</td>\n",
       "    </tr>\n",
       "    <tr>\n",
       "      <th>8</th>\n",
       "      <td>8</td>\n",
       "      <td>IM-0187-0001.jpeg</td>\n",
       "      <td>Normal</td>\n",
       "      <td>TRAIN</td>\n",
       "      <td>NaN</td>\n",
       "      <td>NaN</td>\n",
       "    </tr>\n",
       "    <tr>\n",
       "      <th>9</th>\n",
       "      <td>9</td>\n",
       "      <td>IM-0185-0001.jpeg</td>\n",
       "      <td>Normal</td>\n",
       "      <td>TRAIN</td>\n",
       "      <td>NaN</td>\n",
       "      <td>NaN</td>\n",
       "    </tr>\n",
       "  </tbody>\n",
       "</table>\n",
       "</div>"
      ],
      "text/plain": [
       "   Unnamed: 0   X_ray_image_name   Label Dataset_type Label_2_Virus_category  \\\n",
       "0           0  IM-0128-0001.jpeg  Normal        TRAIN                    NaN   \n",
       "1           1  IM-0127-0001.jpeg  Normal        TRAIN                    NaN   \n",
       "2           2  IM-0125-0001.jpeg  Normal        TRAIN                    NaN   \n",
       "3           3  IM-0122-0001.jpeg  Normal        TRAIN                    NaN   \n",
       "4           4  IM-0119-0001.jpeg  Normal        TRAIN                    NaN   \n",
       "5           5  IM-0117-0001.jpeg  Normal        TRAIN                    NaN   \n",
       "6           6  IM-0115-0001.jpeg  Normal        TRAIN                    NaN   \n",
       "7           7  IM-0189-0001.jpeg  Normal        TRAIN                    NaN   \n",
       "8           8  IM-0187-0001.jpeg  Normal        TRAIN                    NaN   \n",
       "9           9  IM-0185-0001.jpeg  Normal        TRAIN                    NaN   \n",
       "\n",
       "  Label_1_Virus_category  \n",
       "0                    NaN  \n",
       "1                    NaN  \n",
       "2                    NaN  \n",
       "3                    NaN  \n",
       "4                    NaN  \n",
       "5                    NaN  \n",
       "6                    NaN  \n",
       "7                    NaN  \n",
       "8                    NaN  \n",
       "9                    NaN  "
      ]
     },
     "execution_count": 8,
     "metadata": {},
     "output_type": "execute_result"
    }
   ],
   "source": [
    "# parse metadata\n",
    "# filename = \"data/Chest_xray_Corona_Metadata.csv\"\n",
    "filename = \"data/data/data/Chest_xray_Corona_Metadata.csv\"\n",
    "meta_df = pd.read_csv(filename, header=0)\n",
    "meta_df.head(10)"
   ]
  },
  {
   "cell_type": "code",
   "execution_count": 2,
   "metadata": {},
   "outputs": [],
   "source": [
    "def summarize_splits(meta_df,type_str=\"Dataset_type\",label_str=\"Label\"):\n",
    "    print(\"--- Dataset summary ---\")\n",
    "    N = meta_df.shape[0]\n",
    "    for sample_type in meta_df[type_str].unique().tolist():\n",
    "        n_sample = meta_df[(meta_df[type_str]==sample_type)].shape[0]\n",
    "        print(\"-> {:5s} ({:4}/{:4}={:2.2f}%)\".format(sample_type,n_sample,N,100*n_sample/N))\n",
    "        for label in meta_df[label_str].unique().tolist():\n",
    "            print(\"--> {:8s} (N={})\".format(label,meta_df[(meta_df[label_str]==label) & (meta_df[type_str]==sample_type)].shape[0]))"
   ]
  },
  {
   "cell_type": "code",
   "execution_count": 26,
   "metadata": {},
   "outputs": [
    {
     "name": "stdout",
     "output_type": "stream",
     "text": [
      "--- Dataset summary ---\n",
      "-> TRAIN (5286/5910=89.44%)\n",
      "--> Normal   (N=1342)\n",
      "--> Pnemonia (N=3944)\n",
      "-> TEST  ( 624/5910=10.56%)\n",
      "--> Normal   (N=234)\n",
      "--> Pnemonia (N=390)\n"
     ]
    }
   ],
   "source": [
    "summarize_splits(meta_df)"
   ]
  },
  {
   "cell_type": "code",
   "execution_count": 6,
   "metadata": {},
   "outputs": [],
   "source": [
    "# create dict mapping image names to labels\n",
    "label_dict = dict()\n",
    "lim = 10\n",
    "i = 0\n",
    "for i, row in meta_df.iterrows():\n",
    "    label_dict[row.X_ray_image_name] = [row.Label, row.Label_2_Virus_category, row.Label_1_Virus_category]\n",
    "CLASS_NAMES = meta_df.Label.unique()"
   ]
  },
  {
   "cell_type": "code",
   "execution_count": 4,
   "metadata": {},
   "outputs": [],
   "source": [
    "# scan images, summarize image sizes\n",
    "from os import listdir, walk, getcwd\n",
    "from os.path import isfile, join\n",
    "\n",
    "def collect_files(path, subpaths):\n",
    "    f=[]\n",
    "    i=0\n",
    "    for subpath in subpaths:\n",
    "        for (dirpath, dirnames, filenames) in walk(\"{}/{}\".format(path,subpath)):\n",
    "            for file in filenames:\n",
    "                f.append(\"{}/{}/{}\".format(path,subpath,file))\n",
    "            break\n",
    "    return f"
   ]
  },
  {
   "cell_type": "code",
   "execution_count": 5,
   "metadata": {},
   "outputs": [],
   "source": [
    "path=\"data/Coronahack-Chest-XRay-Dataset/Coronahack-Chest-XRay-Dataset\"\n",
    "subpaths=[\"test\",\"train\"]\n",
    "f = collect_files(path, subpaths)"
   ]
  },
  {
   "cell_type": "markdown",
   "metadata": {},
   "source": [
    "## Scanning the images\n",
    "\n",
    "- Problems:\n",
    "    - Images have different dimensions:\n",
    "        - Number of rows/cols\n",
    "        - Need consistent input sizes\n",
    "    - Images have different color channels\n",
    "        - Some are greyscale => img.shape = (rows, cols)\n",
    "        - Some are RGB => img.shape = (rows, cols, RGB)\n",
    "    - Images do not have metadata and labels\n",
    "        - Need to skip images not included in the metadata .csv since they are not labeled"
   ]
  },
  {
   "cell_type": "code",
   "execution_count": 5,
   "metadata": {},
   "outputs": [],
   "source": [
    "from skimage.io import imread\n",
    "import pandas as pd\n",
    "\n",
    "def shape_rgb_or_grey(img):\n",
    "    \"\"\"\n",
    "    : Report whether img is RGB or greyscale\n",
    "    \"\"\"\n",
    "    shp = img.shape\n",
    "    color = \"RGB\" if len(shp) == 3 else \"GREY\"\n",
    "    return [shp[0], shp[1], color] \n",
    "\n",
    "def summarize_images(f,meta_df):\n",
    "    '''\n",
    "    : Summarize the images contained in file hierarchy (f)\n",
    "    '''\n",
    "    datasplit_list=[]\n",
    "    row_nums=[]\n",
    "    col_nums=[]\n",
    "    aspect_ratios=[]\n",
    "    name_short=[]\n",
    "    labels_list=[]\n",
    "    file_type=[]\n",
    "    color_list=[]\n",
    "    bad_images=[]\n",
    "    print(\"--- Parsing {} images ---\".format(len(f)))\n",
    "    print_every = 500\n",
    "    i = 0\n",
    "\n",
    "    for filename in f:\n",
    "        file_short = filename.split(\"/\")[-1]\n",
    "        file_ext = filename.split(\".\")[-1]\n",
    "        if ( file_ext in [\"jpeg\",\"jpg\",\"png\"]):\n",
    "            if (i % print_every == 0):\n",
    "                print(\"-> {} images parsed\".format(i))\n",
    "            img = imread(filename)\n",
    "            try:\n",
    "                data_split = meta_df[meta_df.X_ray_image_name == file_short].Dataset_type.values[0]\n",
    "                data_label = meta_df[meta_df.X_ray_image_name == file_short].Label.values[0]\n",
    "                datasplit_list.append(data_split)\n",
    "                rows, cols, color = shape_rgb_or_grey(img)\n",
    "                row_nums.append(rows)\n",
    "                col_nums.append(cols)\n",
    "                aspect_ratios.append(cols/rows)\n",
    "                name_short.append(filename.split(\"/\")[-1])\n",
    "                labels_list.append(data_label)\n",
    "                file_type.append(file_ext)\n",
    "                color_list.append(color)\n",
    "                i += 1\n",
    "            except ValueError:\n",
    "                print(ValueError)\n",
    "                print(\"{} - shape = {}\".format(filename, img.shape))\n",
    "            except IndexError:\n",
    "                bad_images.append(file_short)\n",
    "                print(f'--> {file_short} is not in metadata. Skipping.')\n",
    "            except:\n",
    "                print(\"Unexpected error:\", sys.exc_info()[0])\n",
    "                print(file_short)\n",
    "                raise\n",
    "\n",
    "        else:\n",
    "            print(\"Skipping {}.\".format(filename))\n",
    "\n",
    "    # summarize image sizes\n",
    "    data = {\"name\": name_short, \"dataset_type\": datasplit_list, \"ext\": file_type, \"color\": color_list, \"label\": labels_list, \"n_rows\": row_nums, \"n_cols\": col_nums, \"asp_ratio\": aspect_ratios}\n",
    "    df_sizes = pd.DataFrame(data=data,columns=[\"name\", \"dataset_type\", \"ext\", \"color\", \"label\", \"n_rows\", \"n_cols\", \"asp_ratio\"])\n",
    "    print(f\"--- There were {len(bad_images)} images not included in the metadata .csv ---\")\n",
    "    return [df_sizes, bad_images]\n",
    "    "
   ]
  },
  {
   "cell_type": "code",
   "execution_count": 9,
   "metadata": {},
   "outputs": [
    {
     "name": "stdout",
     "output_type": "stream",
     "text": [
      "--- Parsing 5933 images ---\n",
      "-> 0 images parsed\n",
      "-> 500 images parsed\n",
      "--> 1-s2.0-S0929664620300449-gr3_lrg-a.jpg is not in metadata. Skipping.\n",
      "--> 1-s2.0-S0929664620300449-gr3_lrg-b.jpg is not in metadata. Skipping.\n",
      "--> 1-s2.0-S0929664620300449-gr3_lrg-c.jpg is not in metadata. Skipping.\n",
      "--> 1-s2.0-S0929664620300449-gr3_lrg-d.jpg is not in metadata. Skipping.\n",
      "--> 191F3B3A-2879-4EF3-BE56-EE0D2B5AAEE3.jpeg is not in metadata. Skipping.\n",
      "--> 21DDEBFD-7F16-4E3E-8F90-CB1B8EE82828.jpeg is not in metadata. Skipping.\n",
      "--> 396A81A5-982C-44E9-A57E-9B1DC34E2C08.jpeg is not in metadata. Skipping.\n",
      "--> 3ED3C0E1-4FE0-4238-8112-DDFF9E20B471.jpeg is not in metadata. Skipping.\n",
      "--> 5083A6B7-8983-472E-A427-570A3E03DDEE.jpeg is not in metadata. Skipping.\n",
      "--> 66298CBF-6F10-42D5-A688-741F6AC84A76.jpeg is not in metadata. Skipping.\n",
      "--> 6A7D4110-2BFC-4D9A-A2D6-E9226D91D25A.jpeg is not in metadata. Skipping.\n",
      "--> 925446AE-B3C7-4C93-941B-AC4D2FE1F455.jpeg is not in metadata. Skipping.\n",
      "--> DE488FE1-0C44-428B-B67A-09741C1214C0.jpeg is not in metadata. Skipping.\n",
      "--> FC230FE2-1DDF-40EB-AA0D-21F950933289.jpeg is not in metadata. Skipping.\n",
      "-> 1000 images parsed\n",
      "--> jkms-35-e79-g001-l-d.jpg is not in metadata. Skipping.\n",
      "--> jkms-35-e79-g001-l-e.jpg is not in metadata. Skipping.\n",
      "--> kjr-21-e24-g001-l-b.jpg is not in metadata. Skipping.\n",
      "--> kjr-21-e24-g001-l-c.jpg is not in metadata. Skipping.\n",
      "--> kjr-21-e24-g002-l-b.jpg is not in metadata. Skipping.\n",
      "--> kjr-21-e24-g002-l-c.jpg is not in metadata. Skipping.\n",
      "--> kjr-21-e24-g003-l-b.jpg is not in metadata. Skipping.\n",
      "--> kjr-21-e24-g004-l-a.jpg is not in metadata. Skipping.\n",
      "--> kjr-21-e24-g004-l-b.jpg is not in metadata. Skipping.\n",
      "-> 1500 images parsed\n",
      "-> 2000 images parsed\n",
      "-> 2500 images parsed\n",
      "-> 3000 images parsed\n",
      "-> 3500 images parsed\n",
      "-> 4000 images parsed\n",
      "-> 4500 images parsed\n",
      "-> 5000 images parsed\n",
      "-> 5500 images parsed\n",
      "--- There were 23 images not included in the metadata .csv ---\n"
     ]
    },
    {
     "data": {
      "text/html": [
       "<div>\n",
       "<style scoped>\n",
       "    .dataframe tbody tr th:only-of-type {\n",
       "        vertical-align: middle;\n",
       "    }\n",
       "\n",
       "    .dataframe tbody tr th {\n",
       "        vertical-align: top;\n",
       "    }\n",
       "\n",
       "    .dataframe thead th {\n",
       "        text-align: right;\n",
       "    }\n",
       "</style>\n",
       "<table border=\"1\" class=\"dataframe\">\n",
       "  <thead>\n",
       "    <tr style=\"text-align: right;\">\n",
       "      <th></th>\n",
       "      <th>n_rows</th>\n",
       "      <th>n_cols</th>\n",
       "      <th>asp_ratio</th>\n",
       "    </tr>\n",
       "  </thead>\n",
       "  <tbody>\n",
       "    <tr>\n",
       "      <th>count</th>\n",
       "      <td>5910.000000</td>\n",
       "      <td>5910.000000</td>\n",
       "      <td>5910.000000</td>\n",
       "    </tr>\n",
       "    <tr>\n",
       "      <th>mean</th>\n",
       "      <td>973.475296</td>\n",
       "      <td>1328.450085</td>\n",
       "      <td>1.439446</td>\n",
       "    </tr>\n",
       "    <tr>\n",
       "      <th>std</th>\n",
       "      <td>389.779755</td>\n",
       "      <td>373.718229</td>\n",
       "      <td>0.256133</td>\n",
       "    </tr>\n",
       "    <tr>\n",
       "      <th>min</th>\n",
       "      <td>127.000000</td>\n",
       "      <td>255.000000</td>\n",
       "      <td>0.835391</td>\n",
       "    </tr>\n",
       "    <tr>\n",
       "      <th>25%</th>\n",
       "      <td>688.000000</td>\n",
       "      <td>1056.000000</td>\n",
       "      <td>1.257143</td>\n",
       "    </tr>\n",
       "    <tr>\n",
       "      <th>50%</th>\n",
       "      <td>888.000000</td>\n",
       "      <td>1283.000000</td>\n",
       "      <td>1.412420</td>\n",
       "    </tr>\n",
       "    <tr>\n",
       "      <th>75%</th>\n",
       "      <td>1194.000000</td>\n",
       "      <td>1560.000000</td>\n",
       "      <td>1.583614</td>\n",
       "    </tr>\n",
       "    <tr>\n",
       "      <th>max</th>\n",
       "      <td>3480.000000</td>\n",
       "      <td>4248.000000</td>\n",
       "      <td>3.378788</td>\n",
       "    </tr>\n",
       "  </tbody>\n",
       "</table>\n",
       "</div>"
      ],
      "text/plain": [
       "            n_rows       n_cols    asp_ratio\n",
       "count  5910.000000  5910.000000  5910.000000\n",
       "mean    973.475296  1328.450085     1.439446\n",
       "std     389.779755   373.718229     0.256133\n",
       "min     127.000000   255.000000     0.835391\n",
       "25%     688.000000  1056.000000     1.257143\n",
       "50%     888.000000  1283.000000     1.412420\n",
       "75%    1194.000000  1560.000000     1.583614\n",
       "max    3480.000000  4248.000000     3.378788"
      ]
     },
     "execution_count": 9,
     "metadata": {},
     "output_type": "execute_result"
    }
   ],
   "source": [
    "df_sizes, bad_images = summarize_images(f,meta_df)\n",
    "df_sizes.describe()"
   ]
  },
  {
   "cell_type": "code",
   "execution_count": 10,
   "metadata": {},
   "outputs": [],
   "source": [
    "# visualize distribution of image sizes\n",
    "import matplotlib.pyplot as plt\n",
    "\n",
    "def df_size_plots(df_sizes):\n",
    "    fig, axs = plt.subplots(1,2,figsize=(10,3))\n",
    "    # img size distribution\n",
    "    hist2d = axs[0].hist2d(df_sizes[\"n_rows\"],df_sizes[\"n_cols\"],bins=50, cmap=plt.cm.jet)\n",
    "    plt.colorbar(hist2d[3],ax=axs[0])\n",
    "    axs[0].set_title(\"Image Size Distribution\")\n",
    "    axs[0].set_xlabel(\"# Rows\")\n",
    "    axs[0].set_ylabel(\"# Cols\")\n",
    "    # rgb/color distribution\n",
    "    colors = [\"RGB\",\"GREY\"]\n",
    "    vals = [df_sizes[df_sizes[\"color\"]==color].shape[0] for color in colors]\n",
    "    axs[1].bar(colors,vals)\n",
    "    axs[1].set_title(\"Image Color Distribution\")\n",
    "    axs[1].set_ylabel(\"Count\")\n",
    "    plt.show()"
   ]
  },
  {
   "cell_type": "code",
   "execution_count": 11,
   "metadata": {},
   "outputs": [
    {
     "data": {
      "image/png": "[encoded data removed]",
      "text/plain": [
       "<Figure size 720x216 with 3 Axes>"
      ]
     },
     "metadata": {
      "needs_background": "light"
     },
     "output_type": "display_data"
    }
   ],
   "source": [
    "df_size_plots(df_sizes)"
   ]
  },
  {
   "cell_type": "code",
   "execution_count": 12,
   "metadata": {},
   "outputs": [
    {
     "name": "stdout",
     "output_type": "stream",
     "text": [
      "-> Verified target path: data\\Coronahack-Chest-XRay-Dataset\\Coronahack-Chest-XRay-Dataset\\train_modified\\Normal\n",
      "-> Verified target path: data\\Coronahack-Chest-XRay-Dataset\\Coronahack-Chest-XRay-Dataset\\train_modified\\Pnemonia\n",
      "-> Verified target path: data\\Coronahack-Chest-XRay-Dataset\\Coronahack-Chest-XRay-Dataset\\test_modified\\Normal\n",
      "-> Verified target path: data\\Coronahack-Chest-XRay-Dataset\\Coronahack-Chest-XRay-Dataset\\test_modified\\Pnemonia\n",
      "--- Move images in data\\Coronahack-Chest-XRay-Dataset\\Coronahack-Chest-XRay-Dataset\\test. Store outputs in data\\Coronahack-Chest-XRay-Dataset\\Coronahack-Chest-XRay-Dataset\\test_modified ---\n",
      "-> 100 files processed out of 624 files.\n",
      "-> 200 files processed out of 624 files.\n",
      "-> 300 files processed out of 624 files.\n",
      "-> 400 files processed out of 624 files.\n",
      "-> 500 files processed out of 624 files.\n",
      "-> 600 files processed out of 624 files.\n",
      "\n",
      "-> Your images are resized at 973 by 1328 and are in the path data\\Coronahack-Chest-XRay-Dataset\\Coronahack-Chest-XRay-Dataset\\test_modified\n",
      "--- There were 0 images without labels ---\n",
      "--- Move images in data\\Coronahack-Chest-XRay-Dataset\\Coronahack-Chest-XRay-Dataset\\train. Store outputs in data\\Coronahack-Chest-XRay-Dataset\\Coronahack-Chest-XRay-Dataset\\train_modified ---\n",
      "-> 500 files processed out of 5309 files.\n",
      "-> 1000 files processed out of 5309 files.\n",
      "-> 1500 files processed out of 5309 files.\n",
      "-> 2000 files processed out of 5309 files.\n",
      "-> 2500 files processed out of 5309 files.\n",
      "-> 3000 files processed out of 5309 files.\n",
      "-> 3500 files processed out of 5309 files.\n",
      "-> 4000 files processed out of 5309 files.\n",
      "-> 4500 files processed out of 5309 files.\n",
      "-> 5000 files processed out of 5309 files.\n",
      "\n",
      "-> Your images are resized at 973 by 1328 and are in the path data\\Coronahack-Chest-XRay-Dataset\\Coronahack-Chest-XRay-Dataset\\train_modified\n",
      "--- There were 23 images without labels ---\n"
     ]
    }
   ],
   "source": [
    "# import resizing snippets\n",
    "from conversion import *\n",
    "\n",
    "pil_path = '\\\\'.join(path.split('/'))\n",
    "train_path, train_dest, test_path, test_dest = get_target_paths(pil_path)\n",
    "check_target_paths([train_dest, test_dest], CLASS_NAMES)\n",
    "\n",
    "RESIZE_BOOL = False # For the CNN pipeline, we don't need to resize images\n",
    "# REISZE_BOOL = True  # For the HOG/SVM pipeline, we want to resize\n",
    "\n",
    "ROWS = int(df_sizes.n_rows.mean())\n",
    "COLS = int(df_sizes.n_cols.mean())\n",
    "convert_image(test_path,test_dest,ROWS,COLS,label_dict,resize_bool=RESIZE_BOOL)\n",
    "convert_image(train_path,train_dest,ROWS,COLS,label_dict,print_every=500,resize_bool=RESIZE_BOOL) # reduce verbosity"
   ]
  },
  {
   "cell_type": "code",
   "execution_count": null,
   "metadata": {},
   "outputs": [],
   "source": [
    "path=\"data/data/data/Coronahack-Chest-XRay-Dataset/Coronahack-Chest-XRay-Dataset\"\n",
    "subpaths=[\"test_modified/Normal\",\"test_modified/Pnemonia\",\"train_modified/Normal\",\"train_modified/Pnemonia\"]\n",
    "f = collect_files(path, subpaths)\n",
    "df_sizes, bad_images = summarize_images(f, meta_df)\n",
    "df_sizes.describe()\n",
    "df_size_plots(df_sizes)"
   ]
  },
  {
   "cell_type": "code",
   "execution_count": 10,
   "metadata": {},
   "outputs": [],
   "source": [
    "# save df_sizes to csv so we can reference this when choosing CNN input size\n",
    "df_sizes.to_csv(\"data/data/unique_sorted_metadata.csv\",index=False)"
   ]
  },
  {
   "cell_type": "markdown",
   "metadata": {},
   "source": [
    "## Images from Unique Patients\n",
    "\n",
    "- Based on the image filenames, we observed that some X-rays came from the same patient.\n",
    "    - For example, `IM-0429-0001-0001` and `IM-0429-0001-0002` come from the same patient (i.e., patient `0429`).\n",
    "- We generated a version of the training/testing dataset which contains images from **unique patients**.\n",
    "    - This yields a better balance between the \"Normal\" and \"Pnemonia\" classes."
   ]
  },
  {
   "cell_type": "code",
   "execution_count": 9,
   "metadata": {},
   "outputs": [
    {
     "name": "stdout",
     "output_type": "stream",
     "text": [
      "--- Parsing 3024 images ---\n",
      "-> 0 images parsed\n",
      "-> 500 images parsed\n",
      "-> 1000 images parsed\n",
      "-> 1500 images parsed\n",
      "-> 2000 images parsed\n",
      "-> 2500 images parsed\n",
      "-> 3000 images parsed\n",
      "--- There were 0 images not included in the metadata .csv ---\n"
     ]
    },
    {
     "ename": "NameError",
     "evalue": "name 'df_size_plots' is not defined",
     "output_type": "error",
     "traceback": [
      "\u001b[0;31m---------------------------------------------------------------------------\u001b[0m",
      "\u001b[0;31mNameError\u001b[0m                                 Traceback (most recent call last)",
      "\u001b[0;32m<ipython-input-9-0f92310d8a6a>\u001b[0m in \u001b[0;36m<module>\u001b[0;34m\u001b[0m\n\u001b[1;32m      4\u001b[0m \u001b[0mdf_sizes\u001b[0m\u001b[0;34m,\u001b[0m \u001b[0mbad_images\u001b[0m \u001b[0;34m=\u001b[0m \u001b[0msummarize_images\u001b[0m\u001b[0;34m(\u001b[0m\u001b[0mf\u001b[0m\u001b[0;34m,\u001b[0m \u001b[0mmeta_df\u001b[0m\u001b[0;34m)\u001b[0m\u001b[0;34m\u001b[0m\u001b[0;34m\u001b[0m\u001b[0m\n\u001b[1;32m      5\u001b[0m \u001b[0mdf_sizes\u001b[0m\u001b[0;34m.\u001b[0m\u001b[0mdescribe\u001b[0m\u001b[0;34m(\u001b[0m\u001b[0;34m)\u001b[0m\u001b[0;34m\u001b[0m\u001b[0;34m\u001b[0m\u001b[0m\n\u001b[0;32m----> 6\u001b[0;31m \u001b[0mdf_size_plots\u001b[0m\u001b[0;34m(\u001b[0m\u001b[0mdf_sizes\u001b[0m\u001b[0;34m)\u001b[0m\u001b[0;34m\u001b[0m\u001b[0;34m\u001b[0m\u001b[0m\n\u001b[0m",
      "\u001b[0;31mNameError\u001b[0m: name 'df_size_plots' is not defined"
     ]
    }
   ],
   "source": [
    "path=\"data/data/data/Coronahack-Chest-XRay-Dataset/Coronahack-Chest-XRay-Dataset\"\n",
    "subpaths=[\"test_unique/Normal\",\"test_unique/Pnemonia\",\"train_unique/Normal\",\"train_unique/Pnemonia\"]\n",
    "f = collect_files(path, subpaths)\n",
    "df_sizes, bad_images = summarize_images(f, meta_df)\n",
    "df_sizes.describe()"
   ]
  },
  {
   "cell_type": "code",
   "execution_count": 11,
   "metadata": {},
   "outputs": [
    {
     "data": {
      "image/png": "[encoded data removed]",
      "text/plain": [
       "<Figure size 720x216 with 3 Axes>"
      ]
     },
     "metadata": {
      "needs_background": "light"
     },
     "output_type": "display_data"
    }
   ],
   "source": [
    "df_size_plots(df_sizes)"
   ]
  },
  {
   "cell_type": "code",
   "execution_count": 12,
   "metadata": {},
   "outputs": [
    {
     "name": "stdout",
     "output_type": "stream",
     "text": [
      "=== Using data from unique patients ===\n",
      "--- Dataset summary ---\n",
      "-> TEST  ( 420/3024=13.89%)\n",
      "--> Normal   (N=229)\n",
      "--> Pnemonia (N=191)\n",
      "-> TRAIN (2604/3024=86.11%)\n",
      "--> Normal   (N=1272)\n",
      "--> Pnemonia (N=1332)\n"
     ]
    }
   ],
   "source": [
    "print(\"=== Using data from unique patients ===\")\n",
    "summarize_splits(df_sizes,type_str=\"dataset_type\",label_str=\"label\")"
   ]
  },
  {
   "cell_type": "code",
   "execution_count": 13,
   "metadata": {},
   "outputs": [],
   "source": [
    "# save df_sizes to csv so we can reference this when choosing CNN input size\n",
    "df_sizes.to_csv(\"data/data/unique_sorted_metadata.csv\",index=False)"
   ]
  }
 ],
 "metadata": {
  "kernelspec": {
   "display_name": "Tensorflow 2.2 (Python 3.7)",
   "language": "python",
   "name": "tf2"
  },
  "language_info": {
   "codemirror_mode": {
    "name": "ipython",
    "version": 3
   },
   "file_extension": ".py",
   "mimetype": "text/x-python",
   "name": "python",
   "nbconvert_exporter": "python",
   "pygments_lexer": "ipython3",
   "version": "3.7.7"
  }
 },
 "nbformat": 4,
 "nbformat_minor": 4
}
