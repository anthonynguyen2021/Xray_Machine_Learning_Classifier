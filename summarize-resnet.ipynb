{
 "cells": [
  {
   "cell_type": "markdown",
   "metadata": {},
   "source": [
    "# Results Summary: ResNet50\n",
    "\n",
    "## Unique Images vs. All Images\n",
    "\n",
    "For training, we restrict our attention to unique. For testing, we evaluate on the entire test set (i.e., there are multiple X-rays from the same patient).\n",
    "\n",
    "## Image Sizes\n",
    "\n",
    "For ResNet50, we performed tests using two differnt image sizes (Height, Width):\n",
    "\n",
    "- One-quarter mean: (243, 332)\n",
    "- One-half mean: (486, 664)\n",
    "\n",
    "where 'mean' is the average image height and width from all images (972 and 1328 pixels, respectively). Chose this rescaling since it approximately preserves each image's aspect ratio.\n",
    "\n",
    "## Hyperparameters\n",
    "\n",
    "We train ResNet50 using `cateogrical_crossentropy` loss with the following hyperparameters:\n",
    "- Adam with default parameters (`lr=1e-3`)\n",
    "- `batch_size=16`\n",
    "- `epochs=100`"
   ]
  },
  {
   "cell_type": "markdown",
   "metadata": {},
   "source": [
    "## Classification Metrics\n",
    "\n",
    "We \n",
    "\n",
    "We report the classification metrics using the weights from 4 different checkpoints: 10, 25, 50, and 100 epochs."
   ]
  },
  {
   "cell_type": "markdown",
   "metadata": {},
   "source": [
    "## One-quarter mean\n",
    "\n",
    "Observations:\n",
    "- `100 epochs` has the highest `auc` for both PR and ROC.\n",
    "    - However, looking at the confusion matrix, we see that this model has poor `precision` -- there are 150 false positives and 380 true positives."
   ]
  },
  {
   "cell_type": "markdown",
   "metadata": {},
   "source": [
    "### PR Curves\n",
    "\n",
    "![PR Curves for one-quarter mean](img/quarter/pr-all.png) \n",
    "\n",
    "### ROC Curves\n",
    "\n",
    "![ROC Curves for one-quarter mean](img/quarter/roc-all.png) \n",
    "\n",
    "### Confusion Matrices\n",
    "\n",
    "![Confusion matrices for one-quarter mean](img/quarter/conf-all.png) "
   ]
  },
  {
   "cell_type": "markdown",
   "metadata": {},
   "source": [
    "## One-half mean\n",
    "\n",
    "Observations:\n",
    "- `10 epochs` has the highest `auc` for both PR and ROC.\n",
    "    - However, looking at the confusion matrix, we see that this model has poor `recall` -- there are 160 false negatives and 290 true positives."
   ]
  },
  {
   "cell_type": "markdown",
   "metadata": {},
   "source": [
    "### PR Curves\n",
    "\n",
    "![PR Curves for one-half mean](img/half/pr-all.png) \n",
    "\n",
    "### ROC Curves\n",
    "\n",
    "![ROC Curves for one-half mean](img/half/roc-all.png) \n",
    "\n",
    "### Confusion Matrices\n",
    "\n",
    "![Confusion matrices for one-half mean](img/half/conf-all.png) "
   ]
  }
 ],
 "metadata": {
  "kernelspec": {
   "display_name": "Python 3",
   "language": "python",
   "name": "python3"
  },
  "language_info": {
   "codemirror_mode": {
    "name": "ipython",
    "version": 3
   },
   "file_extension": ".py",
   "mimetype": "text/x-python",
   "name": "python",
   "nbconvert_exporter": "python",
   "pygments_lexer": "ipython3",
   "version": "3.7.6"
  }
 },
 "nbformat": 4,
 "nbformat_minor": 4
}
